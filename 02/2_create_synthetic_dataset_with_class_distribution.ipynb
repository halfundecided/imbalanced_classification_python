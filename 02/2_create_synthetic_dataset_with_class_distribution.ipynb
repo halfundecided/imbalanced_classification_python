{
  "nbformat": 4,
  "nbformat_minor": 0,
  "metadata": {
    "colab": {
      "name": "2-create-synthetic-dataset-with-class-distribution.ipynb",
      "provenance": [],
      "collapsed_sections": []
    },
    "kernelspec": {
      "name": "python3",
      "display_name": "Python 3"
    }
  },
  "cells": [
    {
      "cell_type": "markdown",
      "metadata": {
        "id": "2wMlt3qxfKdh"
      },
      "source": [
        "## 2. Create Synthetic Dataset with a Class Distribution \n",
        "We can use `make_blobs()` function to create synthetic classification datasets with arbitrary class distributions with a few extra lines of code. \n",
        " "
      ]
    },
    {
      "cell_type": "code",
      "metadata": {
        "id": "Sv4lyS_kfeo9"
      },
      "source": [
        "from numpy import unique\n",
        "from numpy import hstack\n",
        "from numpy import vstack\n",
        "from numpy import where\n",
        "from matplotlib import pyplot\n",
        "from sklearn.datasets import make_blobs"
      ],
      "execution_count": 4,
      "outputs": []
    },
    {
      "cell_type": "code",
      "metadata": {
        "id": "IuLkRUg7fhT1"
      },
      "source": [
        "# create a dataset with a given class distribution \n",
        "def get_dataset(proportions):\n",
        "  # determine the number of classes \n",
        "  n_classes = len(proportions)\n",
        "  #determine the number of examples to generate for each class \n",
        "  largest = max([v for k,v in proportions.items()])\n",
        "  n_samples = largest * n_classes\n",
        "  \n",
        "  # create dataset\n",
        "  X, y = make_blobs(n_samples=n_samples, centers=n_classes, n_features=2, random_state=1, cluster_std=3)\n",
        "  # collect the examples \n",
        "  X_list, y_list = list(), list()\n",
        "  for k, v in proportions.items():\n",
        "    row_ix = where(y==k)[0]\n",
        "    selected = row_ix[:v]\n",
        "    X_list.append(X[selected, :])\n",
        "    y_list.append(y[selected])\n",
        "  return vstack(X_list), hstack(y_list)"
      ],
      "execution_count": 11,
      "outputs": []
    },
    {
      "cell_type": "code",
      "metadata": {
        "id": "SibYqE86FlkO"
      },
      "source": [
        "# scatter plot of dataset, different color for each class \n",
        "def plot_dataset(X, y):\n",
        "  # create scatter plot for samples from each class \n",
        "  n_classes = len(unique(y))\n",
        "  for class_value in range(n_classes):\n",
        "    # get row indexes for samples with this class \n",
        "    row_ix = where(y == class_value)[0]\n",
        "    # create scatter of these samples \n",
        "    pyplot.scatter(X[row_ix, 0], X[row_ix, 1], label=str(class_value))\n",
        "  # show a legend\n",
        "  pyplot.legend()\n",
        "  # show the plot\n",
        "  pyplot.show()"
      ],
      "execution_count": 12,
      "outputs": []
    },
    {
      "cell_type": "code",
      "metadata": {
        "colab": {
          "base_uri": "https://localhost:8080/",
          "height": 265
        },
        "id": "iadnnyFnGVo0",
        "outputId": "6da72a8d-6309-4d52-9b40-dbb63b84d0ba"
      },
      "source": [
        "# define the class distribution\n",
        "proportions = {0:5000, 1:5000}\n",
        "# generate dataset\n",
        "X, y = get_dataset(proportions=proportions)\n",
        "# plot dataset\n",
        "plot_dataset(X, y)"
      ],
      "execution_count": 13,
      "outputs": [
        {
          "output_type": "display_data",
          "data": {
            "image/png": "[encoded data removed]",
            "text/plain": [
              "<Figure size 432x288 with 1 Axes>"
            ]
          },
          "metadata": {
            "tags": [],
            "needs_background": "light"
          }
        }
      ]
    },
    {
      "cell_type": "code",
      "metadata": {
        "id": "WwnvdWw5Ghrb"
      },
      "source": [
        ""
      ],
      "execution_count": null,
      "outputs": []
    }
  ]
}